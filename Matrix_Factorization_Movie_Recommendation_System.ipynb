{
  "nbformat": 4,
  "nbformat_minor": 0,
  "metadata": {
    "colab": {
      "provenance": []
    },
    "kernelspec": {
      "name": "python3",
      "display_name": "Python 3"
    },
    "language_info": {
      "name": "python"
    }
  },
  "cells": [
    {
      "cell_type": "markdown",
      "source": [
        "# Introduction"
      ],
      "metadata": {
        "id": "umXPOO0e4bw9"
      }
    },
    {
      "cell_type": "markdown",
      "source": [
        "The algorithm I will use for movie recommendation is based on Matrix Factorization using Singular Value Decomposition (SVD).\n",
        "\n",
        "\n",
        "## Mathematical Concepts Behind the Algorithm:\n",
        "\n",
        "### 1. Matrix Factorization:\n",
        "Matrix factorization is a collaborative filtering technique where we decompose the user-item interaction matrix into lower-dimensional matrices, capturing latent factors that represent users and items.\n",
        "\n",
        "### 2. Singular Value Decomposition (SVD):\n",
        "SVD is a type of matrix factorization that decomposes a matrix 𝐴 into three matrices:\n",
        "\n",
        "$$A = U\\Sigma V^{T}$$\n",
        "\n",
        "\n",
        "* 𝑈 is a matrix of user factors.\n",
        "* Σ is a diagonal matrix of singular values.\n",
        "* $V^{T}$ is a matrix of item factors.\n",
        "\n",
        "## Steps of the Algorithm\n",
        "\n",
        "### 1. Construct the User-Item Matrix:\n",
        "\n",
        "A matrix 𝑅 is created where each row represents a user, each column represents a movie, and each cell contains the rating given by the user to the movie. If a user has not rated a movie, the cell value is zero.\n",
        "\n",
        "### 2. Apply SVD:\n",
        "\n",
        "* I apply Truncated SVD to 𝑅, reducing it to lower-dimensional matrices:\n",
        "\n",
        "$$𝑅≈𝑈_{𝑘}Σ_{𝑘} 𝑉^{T}_{k}$$\n",
        "* $𝑈_{𝑘}$ contains the user factors\n",
        "* $Σ_{𝑘}$ contains the top 𝑘 singular values\n",
        "* $𝑉^{T}_{k}$ contains the item factors.\n",
        "\n",
        "### 3. Reconstruct the Matrix:\n",
        "\n",
        "I reconstruct the original matrix using the decomposed matrices:\n",
        "\n",
        "$$\\hat{𝑅}=𝑈_{𝑘}Σ_{𝑘} 𝑉^{T}_{k}$$\n",
        "\n",
        "The reconstructed matrix $\\hat{R}$ approximates the original user-item matrix 𝑅, filling in the missing ratings with predicted values.\n",
        "\n",
        "### 4. Generate Recommendations:\n",
        "\n",
        "* For a given user, we use the reconstructed matrix $\\hat{R}$ to identify movies with the highest predicted ratings that the user hasn't seen yet.\n",
        "\n",
        "## Summary\n",
        "\n",
        "The key idea behind matrix factorization is to identify latent factors that capture the underlying relationships between users and items. SVD helps us decompose the user-item matrix into these latent factors, enabling us to predict missing ratings and generate personalized recommendations. The mathematical elegance of SVD lies in its ability to efficiently capture the most significant patterns in the data, even when dealing with large and sparse matrices."
      ],
      "metadata": {
        "id": "MHV7hbTwy4ke"
      }
    },
    {
      "cell_type": "markdown",
      "source": [
        "# Python Code"
      ],
      "metadata": {
        "id": "F8lolTqg4WKK"
      }
    },
    {
      "cell_type": "markdown",
      "source": [
        "## The Data\n",
        "\n",
        "For this report, I use the MovieLens dataset from GroupLens Research. This dataset contains 87382 movie titles and 6843 users."
      ],
      "metadata": {
        "id": "EE9k41Sn4khd"
      }
    },
    {
      "cell_type": "code",
      "execution_count": 4,
      "metadata": {
        "id": "fw0Jc04exhyC"
      },
      "outputs": [],
      "source": [
        "import pandas as pd\n",
        "import numpy as np\n",
        "\n",
        "\n",
        "# Load the dataset\n",
        "movies = pd.read_csv('movies.csv')\n",
        "ratings = pd.read_csv('ratings.csv')"
      ]
    },
    {
      "cell_type": "code",
      "source": [
        "num_unique_movies = movies['title'].nunique()\n",
        "print(f\"Number of unique Movie Titles: {num_unique_movies}\")"
      ],
      "metadata": {
        "colab": {
          "base_uri": "https://localhost:8080/"
        },
        "id": "BpGkDXTY5iwT",
        "outputId": "42edf3ee-614c-4e8b-de9b-f8b36040281c"
      },
      "execution_count": 16,
      "outputs": [
        {
          "output_type": "stream",
          "name": "stdout",
          "text": [
            "Number of unique Movie Titles: 87382\n"
          ]
        }
      ]
    },
    {
      "cell_type": "code",
      "source": [
        "num_unique_users = ratings['userId'].nunique()\n",
        "print(f\"Number of unique user IDs: {num_unique_users}\")"
      ],
      "metadata": {
        "colab": {
          "base_uri": "https://localhost:8080/"
        },
        "id": "5vHiSrmIxOqw",
        "outputId": "1e05a4d1-f362-4c88-ad8b-31e1a3fe812b"
      },
      "execution_count": 12,
      "outputs": [
        {
          "output_type": "stream",
          "name": "stdout",
          "text": [
            "Number of unique user IDs: 6843\n"
          ]
        }
      ]
    },
    {
      "cell_type": "code",
      "source": [
        "print(movies.head(20))"
      ],
      "metadata": {
        "colab": {
          "base_uri": "https://localhost:8080/"
        },
        "id": "tDDSuMJeyNQR",
        "outputId": "aa97fdc2-1f28-4d68-c43e-33dc2835e851"
      },
      "execution_count": 6,
      "outputs": [
        {
          "output_type": "stream",
          "name": "stdout",
          "text": [
            "    movieId                                  title  \\\n",
            "0         1                       Toy Story (1995)   \n",
            "1         2                         Jumanji (1995)   \n",
            "2         3                Grumpier Old Men (1995)   \n",
            "3         4               Waiting to Exhale (1995)   \n",
            "4         5     Father of the Bride Part II (1995)   \n",
            "5         6                            Heat (1995)   \n",
            "6         7                         Sabrina (1995)   \n",
            "7         8                    Tom and Huck (1995)   \n",
            "8         9                    Sudden Death (1995)   \n",
            "9        10                       GoldenEye (1995)   \n",
            "10       11         American President, The (1995)   \n",
            "11       12     Dracula: Dead and Loving It (1995)   \n",
            "12       13                           Balto (1995)   \n",
            "13       14                           Nixon (1995)   \n",
            "14       15                Cutthroat Island (1995)   \n",
            "15       16                          Casino (1995)   \n",
            "16       17           Sense and Sensibility (1995)   \n",
            "17       18                      Four Rooms (1995)   \n",
            "18       19  Ace Ventura: When Nature Calls (1995)   \n",
            "19       20                     Money Train (1995)   \n",
            "\n",
            "                                         genres  \n",
            "0   Adventure|Animation|Children|Comedy|Fantasy  \n",
            "1                    Adventure|Children|Fantasy  \n",
            "2                                Comedy|Romance  \n",
            "3                          Comedy|Drama|Romance  \n",
            "4                                        Comedy  \n",
            "5                         Action|Crime|Thriller  \n",
            "6                                Comedy|Romance  \n",
            "7                            Adventure|Children  \n",
            "8                                        Action  \n",
            "9                     Action|Adventure|Thriller  \n",
            "10                         Comedy|Drama|Romance  \n",
            "11                                Comedy|Horror  \n",
            "12                 Adventure|Animation|Children  \n",
            "13                                        Drama  \n",
            "14                     Action|Adventure|Romance  \n",
            "15                                  Crime|Drama  \n",
            "16                                Drama|Romance  \n",
            "17                                       Comedy  \n",
            "18                                       Comedy  \n",
            "19           Action|Comedy|Crime|Drama|Thriller  \n"
          ]
        }
      ]
    },
    {
      "cell_type": "code",
      "source": [
        "print(ratings.head(20))"
      ],
      "metadata": {
        "colab": {
          "base_uri": "https://localhost:8080/"
        },
        "id": "yoCoY27sypLi",
        "outputId": "203e56b6-5226-4536-dc6a-cbe8b3cae1c8"
      },
      "execution_count": 7,
      "outputs": [
        {
          "output_type": "stream",
          "name": "stdout",
          "text": [
            "    userId  movieId  rating    timestamp\n",
            "0        1     17.0     4.0  944249077.0\n",
            "1        1     25.0     1.0  944250228.0\n",
            "2        1     29.0     2.0  943230976.0\n",
            "3        1     30.0     5.0  944249077.0\n",
            "4        1     32.0     5.0  943228858.0\n",
            "5        1     34.0     2.0  943228491.0\n",
            "6        1     36.0     1.0  944249008.0\n",
            "7        1     80.0     5.0  944248943.0\n",
            "8        1    110.0     3.0  943231119.0\n",
            "9        1    111.0     5.0  944249008.0\n",
            "10       1    161.0     1.0  943231162.0\n",
            "11       1    166.0     5.0  943228442.0\n",
            "12       1    176.0     4.0  944079496.0\n",
            "13       1    223.0     3.0  944082810.0\n",
            "14       1    232.0     5.0  943228442.0\n",
            "15       1    260.0     5.0  943228696.0\n",
            "16       1    302.0     4.0  944253272.0\n",
            "17       1    306.0     5.0  944248888.0\n",
            "18       1    307.0     5.0  944253207.0\n",
            "19       1    322.0     4.0  944053801.0\n"
          ]
        }
      ]
    },
    {
      "cell_type": "markdown",
      "source": [
        "## Step 1: Construct the User-Item Matrix:"
      ],
      "metadata": {
        "id": "zuzLefJv6mR_"
      }
    },
    {
      "cell_type": "code",
      "source": [
        "# Create the user-item matrix\n",
        "user_item_matrix = ratings.pivot(index='userId', columns='movieId', values='rating').fillna(0)\n"
      ],
      "metadata": {
        "id": "mUNRVh8txyJV"
      },
      "execution_count": 8,
      "outputs": []
    },
    {
      "cell_type": "markdown",
      "source": [
        "## Step 2: Apply SVD"
      ],
      "metadata": {
        "id": "OKMa82-s60Qs"
      }
    },
    {
      "cell_type": "code",
      "source": [
        "from sklearn.decomposition import TruncatedSVD\n",
        "\n",
        "# Fit the SVD model\n",
        "svd = TruncatedSVD(n_components=50, random_state=42)\n",
        "svd.fit(user_item_matrix)\n",
        "\n",
        "# Get the user and item factors\n",
        "user_factors = svd.transform(user_item_matrix)\n",
        "item_factors = svd.components_\n"
      ],
      "metadata": {
        "id": "RovEg_wSx1dI"
      },
      "execution_count": 9,
      "outputs": []
    },
    {
      "cell_type": "markdown",
      "source": [
        "## Step 3: Reconstruct the Matrix:"
      ],
      "metadata": {
        "id": "bHhkyGvW0avl"
      }
    },
    {
      "cell_type": "code",
      "source": [
        "\n",
        "# Reconstruct the matrix\n",
        "reconstructed_matrix = np.dot(user_factors, item_factors)\n",
        "\n",
        "def get_recommendations(user_id, user_item_matrix, reconstructed_matrix, movies, num_recommendations=3):\n",
        "    user_index = user_id - 1  # assuming user IDs start at 1\n",
        "    user_ratings = reconstructed_matrix[user_index]\n",
        "    sorted_movie_indices = np.argsort(user_ratings)[::-1]\n",
        "    recommended_movie_indices = [idx for idx in sorted_movie_indices if user_item_matrix.iloc[user_index, idx] == 0]\n",
        "    top_recommendations = recommended_movie_indices[:num_recommendations]\n",
        "\n",
        "    recommended_movie_titles = []\n",
        "    for movie_id in top_recommendations:\n",
        "        movie_title = movies[movies['movieId'] == movie_id].title.values\n",
        "        if len(movie_title) > 0:  # Ensure the movie title exists\n",
        "            recommended_movie_titles.append(movie_title[0])\n",
        "    return recommended_movie_titles\n"
      ],
      "metadata": {
        "id": "00MCxZjpx3VD"
      },
      "execution_count": 17,
      "outputs": []
    },
    {
      "cell_type": "markdown",
      "source": [
        "## Step 4: Generate Recommendations"
      ],
      "metadata": {
        "id": "jAOkSaap7XG8"
      }
    },
    {
      "cell_type": "code",
      "source": [
        "# Generate Recommendations\n",
        "for i in range(1, 11):\n",
        "  user_id = i\n",
        "  recommendations = get_recommendations(user_id, user_item_matrix, reconstructed_matrix, movies)\n",
        "  print(f\"Recommendations for user {user_id}: {recommendations}\")"
      ],
      "metadata": {
        "colab": {
          "base_uri": "https://localhost:8080/"
        },
        "id": "h22QGPNR7Tug",
        "outputId": "06caf113-2b1e-4659-fd90-a68c69f7628f"
      },
      "execution_count": 18,
      "outputs": [
        {
          "output_type": "stream",
          "name": "stdout",
          "text": [
            "Recommendations for user 1: ['Old Lady Who Walked in the Sea, The (Vieille qui marchait dans la mer, La) (1991)', \"Mummy's Hand, The (1940)\", 'Mille bolle blu (1993)']\n",
            "Recommendations for user 2: ['Wedding Gift, The (1994)', 'Hot Shots! Part Deux (1993)', 'Brothers McMullen, The (1995)']\n",
            "Recommendations for user 3: ['Toy Story (1995)', 'Bhaji on the Beach (1993)', 'New Jersey Drive (1995)']\n",
            "Recommendations for user 4: ['Streetcar Named Desire, A (1951)', 'I.Q. (1994)', \"Mummy's Hand, The (1940)\"]\n",
            "Recommendations for user 5: ['Slingshot, The (Kådisbellan) (1993)', 'Mask, The (1994)', 'Four Weddings and a Funeral (1994)']\n",
            "Recommendations for user 6: ['Hanging Up (2000)', 'Halloween: Resurrection (Halloween 8) (2002)', 'An Amazing Couple (2002)']\n",
            "Recommendations for user 7: ['Beyond Rangoon (1995)', 'Cobb (1994)', 'Hot Shots! Part Deux (1993)']\n",
            "Recommendations for user 8: ['Usual Suspects, The (1995)', 'Red Firecracker, Green Firecracker (Pao Da Shuang Deng) (1994)', 'Godzilla (Gojira) (1954)']\n",
            "Recommendations for user 9: ['Prince of Central Park, The (1999)', 'Nina Takes a Lover (1994)', 'Vibes (1988)']\n",
            "Recommendations for user 10: ['Naked Gun 33 1/3: The Final Insult (1994)', \"Mummy's Hand, The (1940)\"]\n"
          ]
        }
      ]
    }
  ]
}