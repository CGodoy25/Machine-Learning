{
  "nbformat": 4,
  "nbformat_minor": 0,
  "metadata": {
    "colab": {
      "provenance": []
    },
    "kernelspec": {
      "name": "python3",
      "display_name": "Python 3"
    },
    "language_info": {
      "name": "python"
    }
  },
  "cells": [
    {
      "cell_type": "markdown",
      "source": [
        "# Evaluating Performance of the Movie Recommendation Model"
      ],
      "metadata": {
        "id": "DuEXOCNjHAou"
      }
    },
    {
      "cell_type": "markdown",
      "source": [
        "In this file, I test the performance of the Movie Recommendation Model presented in the previous file titled \"Matrix Factorization Movie Recommendation System.\"\n",
        "\n",
        "I do this by splitting the dataset into training data and testing data. The rest of the code is the same as the original model."
      ],
      "metadata": {
        "id": "SPlhDO4LKmk9"
      }
    },
    {
      "cell_type": "code",
      "source": [
        "import pandas as pd\n",
        "import numpy as np\n",
        "from sklearn.decomposition import TruncatedSVD\n",
        "from sklearn.model_selection import train_test_split\n",
        "from sklearn.metrics import mean_squared_error, mean_absolute_error\n",
        "\n",
        "# Load the datasets\n",
        "movies = pd.read_csv('movies.csv')\n",
        "ratings = pd.read_csv('ratings.csv')\n",
        "\n",
        "# Split the data into training and testing sets\n",
        "train_data, test_data = train_test_split(ratings, test_size=0.2, random_state=42)\n",
        "\n",
        "# Create the training user-item matrix\n",
        "train_user_item_matrix = train_data.pivot(index='userId', columns='movieId', values='rating').fillna(0)\n",
        "\n",
        "# Create the testing user-item matrix\n",
        "test_user_item_matrix = test_data.pivot(index='userId', columns='movieId', values='rating').fillna(0)\n",
        "\n",
        "# Reindex the test matrix to have the same columns as the train matrix\n",
        "test_user_item_matrix = test_user_item_matrix.reindex(columns=train_user_item_matrix.columns, fill_value=0)\n"
      ],
      "metadata": {
        "id": "yd8RmWEpFa4U"
      },
      "execution_count": 2,
      "outputs": []
    },
    {
      "cell_type": "code",
      "source": [
        "# Fit the SVD model on the training data\n",
        "svd = TruncatedSVD(n_components=50, random_state=42)\n",
        "svd.fit(train_user_item_matrix)\n",
        "\n",
        "# Get the user and item factors for the training data\n",
        "train_user_factors = svd.transform(train_user_item_matrix)\n",
        "train_item_factors = svd.components_\n",
        "\n",
        "# Reconstruct the matrix for the training data\n",
        "reconstructed_train_matrix = np.dot(train_user_factors, train_item_factors)\n"
      ],
      "metadata": {
        "id": "cm2RXKDsEdyW"
      },
      "execution_count": 3,
      "outputs": []
    },
    {
      "cell_type": "code",
      "source": [
        "# Reconstruct the matrix for the test data\n",
        "reconstructed_test_matrix = np.dot(svd.transform(test_user_item_matrix.fillna(0)), svd.components_)\n",
        "\n",
        "# Function to calculate and print evaluation metrics\n",
        "def evaluate_model(test_user_item_matrix, reconstructed_matrix):\n",
        "    # Flatten the matrices for evaluation\n",
        "    test_actual = test_user_item_matrix.values.flatten()\n",
        "    test_predicted = reconstructed_matrix.flatten()\n",
        "\n",
        "    # Calculate evaluation metrics\n",
        "    mse = mean_squared_error(test_actual, test_predicted)\n",
        "    mae = mean_absolute_error(test_actual, test_predicted)\n",
        "\n",
        "    print(f\"Mean Squared Error: {mse}\")\n",
        "    print(f\"Mean Absolute Error: {mae}\")\n",
        "\n",
        "# Evaluate the model using the test set\n",
        "evaluate_model(test_user_item_matrix, reconstructed_test_matrix)\n"
      ],
      "metadata": {
        "colab": {
          "base_uri": "https://localhost:8080/"
        },
        "id": "Vvr_Z807EhU6",
        "outputId": "8e4dfa9d-c429-41a5-8d57-f216f5619566"
      },
      "execution_count": 4,
      "outputs": [
        {
          "output_type": "stream",
          "name": "stdout",
          "text": [
            "Mean Squared Error: 0.02537051458897461\n",
            "Mean Absolute Error: 0.023424500077415658\n"
          ]
        }
      ]
    },
    {
      "cell_type": "markdown",
      "source": [
        "## Performance Metrics\n",
        "\n",
        "#### Mean Squared Error (MSE):\n",
        "* Measures the average of the squared differences between the predicted ratings and the actual ratings.\n",
        "* In the context of a movie recommendation system:\n",
        " * Lower MSE indicates better performance. It means that, on average, the squared differences between predicted ratings and the actual ratings are smaller, implying that predictions are closer to the actual values.\n",
        " * Higher MSE implies that predictions are further off from the actual ratings.\n",
        "\n",
        "#### Mean Absolute Error (MAE):\n",
        "* Measures the average of the absolute differences between the predicted ratings and the actual ratings.\n",
        "* In the context of a movie recommendation system:\n",
        " * Lower MAE indicates better performance. It means that, on average, the absolute differences between predicted ratings and the actual ratings are smaller, suggesting predictions are more accurate.\n",
        " * Higher MAE implies that predictions are less accurate.\n"
      ],
      "metadata": {
        "id": "PILJtqUvLfmc"
      }
    },
    {
      "cell_type": "code",
      "source": [
        "def get_recommendations(user_id, user_item_matrix, reconstructed_matrix, movies, num_recommendations=3):\n",
        "    user_index = user_id - 1  # assuming user IDs start at 1\n",
        "    user_ratings = reconstructed_matrix[user_index]\n",
        "    sorted_movie_indices = np.argsort(user_ratings)[::-1]\n",
        "    recommended_movie_indices = [idx for idx in sorted_movie_indices if user_item_matrix.iloc[user_index, idx] == 0]\n",
        "    top_recommendations = recommended_movie_indices[:num_recommendations]\n",
        "\n",
        "    recommended_movie_titles = []\n",
        "    for movie_id in top_recommendations:\n",
        "        movie_title = movies[movies['movieId'] == movie_id].title.values\n",
        "        if len(movie_title) > 0:  # Ensure the movie title exists\n",
        "            recommended_movie_titles.append(movie_title[0])\n",
        "    return recommended_movie_titles\n",
        "\n",
        "# Function to get top latent factors contributing to a recommendation\n",
        "def get_top_factors(user_id, movie_id, user_factors, item_factors, num_factors=3):\n",
        "    user_index = user_id - 1\n",
        "    movie_index = movie_id - 1\n",
        "    user_vector = user_factors[user_index]\n",
        "    item_vector = item_factors[:, movie_index]\n",
        "    factor_contributions = user_vector * item_vector\n",
        "    top_factors = np.argsort(factor_contributions)[-num_factors:][::-1]\n",
        "    return top_factors, factor_contributions[top_factors]"
      ],
      "metadata": {
        "id": "1be6Uko1EjXH"
      },
      "execution_count": 6,
      "outputs": []
    },
    {
      "cell_type": "code",
      "source": [
        "# Example usage: Get recommendations for multiple users and understand recommendations\n",
        "for i in range(1, 3):\n",
        "    user_id = i\n",
        "    recommendations = get_recommendations(user_id, train_user_item_matrix, reconstructed_train_matrix, movies, num_recommendations=3)\n",
        "    print(f\"\\nRecommendations for user {user_id}:\\n{recommendations}\\n\")\n",
        "\n",
        "    for movie_title in recommendations:\n",
        "        movie_id = movies[movies['title'] == movie_title].movieId.values[0]\n",
        "        top_factors, contributions = get_top_factors(user_id, movie_id, train_user_factors, train_item_factors)\n",
        "        print(f\"Top factors for recommendation of '{movie_title}':\")\n",
        "        print(f\"Factors: {top_factors}\")\n",
        "        print(f\"Contributions: {contributions}\\n\")\n"
      ],
      "metadata": {
        "colab": {
          "base_uri": "https://localhost:8080/"
        },
        "id": "lyBLSdDDHm6F",
        "outputId": "4a86144f-9d4f-4f3d-d21f-9ba3901682f8"
      },
      "execution_count": 8,
      "outputs": [
        {
          "output_type": "stream",
          "name": "stdout",
          "text": [
            "\n",
            "Recommendations for user 1:\n",
            "['Sunset Park (1996)', 'Inkwell, The (1994)', 'Ghost in the Shell (Kôkaku kidôtai) (1995)']\n",
            "\n",
            "Top factors for recommendation of 'Sunset Park (1996)':\n",
            "Factors: [29 31 33]\n",
            "Contributions: [0.01374063 0.01127923 0.01110957]\n",
            "\n",
            "Top factors for recommendation of 'Inkwell, The (1994)':\n",
            "Factors: [18  6 31]\n",
            "Contributions: [0.02010761 0.01885013 0.00912894]\n",
            "\n",
            "Top factors for recommendation of 'Ghost in the Shell (Kôkaku kidôtai) (1995)':\n",
            "Factors: [ 6  0 40]\n",
            "Contributions: [0.13790542 0.06609049 0.05594322]\n",
            "\n",
            "\n",
            "Recommendations for user 2:\n",
            "['Scout, The (1994)', 'Frankie Starlight (1995)', 'Cabin Boy (1994)']\n",
            "\n",
            "Top factors for recommendation of 'Scout, The (1994)':\n",
            "Factors: [2 4 0]\n",
            "Contributions: [0.78887295 0.49266802 0.41820295]\n",
            "\n",
            "Top factors for recommendation of 'Frankie Starlight (1995)':\n",
            "Factors: [ 4  8 33]\n",
            "Contributions: [0.05340896 0.04266334 0.01562789]\n",
            "\n",
            "Top factors for recommendation of 'Cabin Boy (1994)':\n",
            "Factors: [ 1  3 40]\n",
            "Contributions: [0.02028922 0.01977889 0.01354091]\n",
            "\n"
          ]
        }
      ]
    },
    {
      "cell_type": "markdown",
      "source": [
        "# Understanding the Recommendations\n",
        "### Factors:\n",
        "\n",
        "These numbers (e.g., [29, 31, 33] for 'Sunset Park (1996)') represent the top latent factors that have the highest contributions to the user's preference for this movie. Latent factors are underlying features that the matrix factorization algorithm extracts from the user-item interaction matrix. They capture patterns such as genre preferences, actors, directors, or any other nuanced traits that influence user ratings.\n",
        "\n",
        "### Contributions:\n",
        "\n",
        "These values (e.g., [0.01374063, 0.01127923, 0.01110957]) indicate how strongly each corresponding latent factor influences the recommendation for that movie. Higher values mean that the factor has a greater influence on the recommendation."
      ],
      "metadata": {
        "id": "SgIe_tYoJdJF"
      }
    },
    {
      "cell_type": "markdown",
      "source": [
        "# Explanation of User 1's Recommendations\n",
        "\n",
        "### 1. Sunset Park (1996):\n",
        "\n",
        "Factors: [29, 31, 33]\n",
        "\n",
        "Contributions: [0.01374063, 0.01127923, 0.01110957]\n",
        "\n",
        "Interpretation: These factors suggest that the user's preference for 'Sunset Park (1996)' is influenced by specific latent traits captured by factors 29, 31, and 33. These could represent the user's inclination towards sports movies, specific actors, or certain movie styles.\n",
        "\n",
        "### 2. Inkwell, The (1994):\n",
        "\n",
        "Factors: [18, 6, 31]\n",
        "\n",
        "Contributions: [0.02010761, 0.01885013, 0.00912894]\n",
        "\n",
        "Interpretation: The recommendation is driven by factors 18, 6, and 31, indicating the user's interest in coming-of-age stories, particular time periods, or cultural settings depicted in the movie.\n",
        "\n",
        "### 2. Ghost in the Shell (Kôkaku kidôtai) (1995):\n",
        "\n",
        "Factors: [ 6, 0, 40]\n",
        "\n",
        "Contributions: [0.13790542, 0.06609049, 0.05594322]\n",
        "\n",
        "Interpretation: The significant influence of factors 6, 0, and 40 suggests that the user's preference for this movie is likely due to an interest in sci-fi, animation style, or the philosophical themes explored in the film."
      ],
      "metadata": {
        "id": "DJ-gYw40J6xX"
      }
    },
    {
      "cell_type": "markdown",
      "source": [
        "# Conclusion\n",
        "\n",
        "By analyzing the top latent factors and their contributions, you can gain insights into the specific aspects of a movie that resonate most with a user's preferences. This helps in understanding the underlying reasons for each recommendation and tailoring the recommendation system to better match user tastes."
      ],
      "metadata": {
        "id": "5dprtIb_Jabc"
      }
    }
  ]
}